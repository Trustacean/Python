{
 "cells": [
  {
   "cell_type": "code",
   "execution_count": 1,
   "metadata": {},
   "outputs": [
    {
     "ename": "ValueError",
     "evalue": "invalid literal for int() with base 10: ''",
     "output_type": "error",
     "traceback": [
      "\u001b[1;31m---------------------------------------------------------------------------\u001b[0m",
      "\u001b[1;31mValueError\u001b[0m                                Traceback (most recent call last)",
      "Cell \u001b[1;32mIn[1], line 1\u001b[0m\n\u001b[1;32m----> 1\u001b[0m nilai\u001b[39m=\u001b[39m\u001b[39mint\u001b[39;49m(\u001b[39minput\u001b[39;49m())\n",
      "\u001b[1;31mValueError\u001b[0m: invalid literal for int() with base 10: ''"
     ]
    }
   ],
   "source": [
    "nilai=int(input())"
   ]
  },
  {
   "cell_type": "code",
   "execution_count": null,
   "metadata": {},
   "outputs": [
    {
     "name": "stdout",
     "output_type": "stream",
     "text": [
      "BRO'S SCORE IS NEGATIVE LMFAO\n"
     ]
    }
   ],
   "source": [
    "if nilai>=80 and nilai <=100:\n",
    "    print (\"Your score is A!\")\n",
    "elif nilai<79 and nilai>=70:\n",
    "    print (\"Your score is B!\")\n",
    "elif nilai<69 and nilai>=60:\n",
    "    print (\"Your score is C!\")\n",
    "elif nilai<59 and nilai>=55:\n",
    "    print (\"Your score is D! LMAO TRY HARDER BITCH XD\")\n",
    "elif nilai<55 and nilai>=0:\n",
    "    print (\"Bro are you for real? your score is lower than Mariana Trench wtf\")\n",
    "else :\n",
    "    print (\"BRO'S SCORE IS NEGATIVE LMFAO\")"
   ]
  }
 ],
 "metadata": {
  "kernelspec": {
   "display_name": "Python 3",
   "language": "python",
   "name": "python3"
  },
  "language_info": {
   "codemirror_mode": {
    "name": "ipython",
    "version": 3
   },
   "file_extension": ".py",
   "mimetype": "text/x-python",
   "name": "python",
   "nbconvert_exporter": "python",
   "pygments_lexer": "ipython3",
   "version": "3.11.3"
  },
  "orig_nbformat": 4
 },
 "nbformat": 4,
 "nbformat_minor": 2
}

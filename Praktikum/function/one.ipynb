{
 "cells": [
  {
   "cell_type": "code",
   "execution_count": 37,
   "metadata": {},
   "outputs": [],
   "source": [
    "def karyawan(name=\"worker\",wages=9000) :\n",
    "    number=\"0123456789\"\n",
    "    check=False\n",
    "    for i in name:\n",
    "        if i in number:\n",
    "            check=True\n",
    "    if check==True:\n",
    "        print (\"Invalid name! name cannot contain numbers.\")\n",
    "    else :\n",
    "        print (\"Name : \",name)\n",
    "    \n",
    "    print (\"Wages : \",wages)"
   ]
  },
  {
   "cell_type": "code",
   "execution_count": 38,
   "metadata": {},
   "outputs": [
    {
     "name": "stdout",
     "output_type": "stream",
     "text": [
      "Name :  wro\n",
      "Wages :  9000\n"
     ]
    }
   ],
   "source": [
    "karyawan(\"wro\")\n"
   ]
  }
 ],
 "metadata": {
  "kernelspec": {
   "display_name": "Python 3",
   "language": "python",
   "name": "python3"
  },
  "language_info": {
   "codemirror_mode": {
    "name": "ipython",
    "version": 3
   },
   "file_extension": ".py",
   "mimetype": "text/x-python",
   "name": "python",
   "nbconvert_exporter": "python",
   "pygments_lexer": "ipython3",
   "version": "3.11.2"
  },
  "orig_nbformat": 4
 },
 "nbformat": 4,
 "nbformat_minor": 2
}

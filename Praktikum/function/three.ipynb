{
 "cells": [
  {
   "cell_type": "code",
   "execution_count": 17,
   "metadata": {},
   "outputs": [
    {
     "name": "stdout",
     "output_type": "stream",
     "text": [
      "a\n",
      "i\n",
      "u\n",
      "e\n",
      "o\n",
      "a\n",
      "i\n",
      "u\n",
      "e\n",
      "a\n",
      "o\n",
      "i\n",
      "u\n",
      "o\n",
      "i\n",
      "u\n",
      "a\n",
      "o\n",
      "e\n",
      "i\n",
      "u\n",
      "o\n",
      "a\n",
      "i\n",
      "e\n"
     ]
    }
   ],
   "source": [
    "jingan=\"aiueoaiueaoiusdoiusaoeiuoasie\"\n",
    "numbers=\"aiueo\"\n",
    "\n",
    "\n",
    "for i in jingan:\n",
    "    if i in numbers:\n",
    "        print (i)"
   ]
  }
 ],
 "metadata": {
  "kernelspec": {
   "display_name": "Python 3",
   "language": "python",
   "name": "python3"
  },
  "language_info": {
   "codemirror_mode": {
    "name": "ipython",
    "version": 3
   },
   "file_extension": ".py",
   "mimetype": "text/x-python",
   "name": "python",
   "nbconvert_exporter": "python",
   "pygments_lexer": "ipython3",
   "version": "3.11.2"
  },
  "orig_nbformat": 4
 },
 "nbformat": 4,
 "nbformat_minor": 2
}

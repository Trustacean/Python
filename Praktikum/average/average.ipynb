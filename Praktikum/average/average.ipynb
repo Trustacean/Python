{
 "cells": [
  {
   "cell_type": "code",
   "execution_count": 9,
   "metadata": {},
   "outputs": [
    {
     "name": "stdout",
     "output_type": "stream",
     "text": [
      "Average is  5.5\n",
      "Average is  10.333333333333334\n"
     ]
    }
   ],
   "source": [
    "i=1\n",
    "total=0\n",
    "while i==1 :\n",
    "    amount=int(input(\"How many numbers you want to input?\"))\n",
    "    for i in range(0,amount) :\n",
    "        value=int(input(\"values :\"))\n",
    "        total=total+value\n",
    "    average=total/amount\n",
    "    print (\"Average is \", average)\n",
    "    finish=input(\"Would you like to continue? (y/n\")\n",
    "    if (finish==\"n\") :\n",
    "        print (\"Program finished\")\n",
    "        break\n",
    "    elif (finish==\"y\") :\n",
    "        print (\"Program continued\")\n",
    "        pass\n",
    "    else :\n",
    "        print (\"invalid input\")"
   ]
  }
 ],
 "metadata": {
  "kernelspec": {
   "display_name": "Python 3",
   "language": "python",
   "name": "python3"
  },
  "language_info": {
   "codemirror_mode": {
    "name": "ipython",
    "version": 3
   },
   "file_extension": ".py",
   "mimetype": "text/x-python",
   "name": "python",
   "nbconvert_exporter": "python",
   "pygments_lexer": "ipython3",
   "version": "3.11.2"
  },
  "orig_nbformat": 4
 },
 "nbformat": 4,
 "nbformat_minor": 2
}

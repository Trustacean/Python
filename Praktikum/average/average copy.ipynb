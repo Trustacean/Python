{
 "cells": [
  {
   "cell_type": "code",
   "execution_count": 1,
   "metadata": {},
   "outputs": [
    {
     "name": "stdout",
     "output_type": "stream",
     "text": [
      "Values submitted : 1 2 3 4 5 "
     ]
    }
   ],
   "source": [
    "values = []\n",
    "a=1\n",
    "b=1\n",
    "total=0\n",
    "while a==1 :\n",
    "    while b==1:\n",
    "        amount=int(input(\"How many numbers you want to input?\"))\n",
    "        for i in range(0,amount) :\n",
    "            values.append(input(\"Value\"))\n",
    "    \n",
    "        print (\"Values submitted :\", end=\" \")    \n",
    "        for i in range(0,amount) :\n",
    "            print (values[i], end = \" \")\n",
    "    \n",
    "        correct=input(\"Are the values correct? (y/n)\")\n",
    "        if (correct==\"y\"):\n",
    "            print (\"Program continued with values submitted\")\n",
    "            pass\n",
    "        elif (correct==\"n\"):\n",
    "            print (\"Program restarted\")\n",
    "            break\n",
    "        else :\n",
    "            print (\"Invalid\")\n",
    "            break\n",
    "        \n",
    "        for i in range(0,amount) :\n",
    "            total=total+values[i]\n",
    "        \n",
    "        average=total/amount"
   ]
  }
 ],
 "metadata": {
  "kernelspec": {
   "display_name": "Python 3",
   "language": "python",
   "name": "python3"
  },
  "language_info": {
   "codemirror_mode": {
    "name": "ipython",
    "version": 3
   },
   "file_extension": ".py",
   "mimetype": "text/x-python",
   "name": "python",
   "nbconvert_exporter": "python",
   "pygments_lexer": "ipython3",
   "version": "3.11.2"
  },
  "orig_nbformat": 4
 },
 "nbformat": 4,
 "nbformat_minor": 2
}

{
 "cells": [
  {
   "cell_type": "code",
   "execution_count": 1,
   "metadata": {},
   "outputs": [],
   "source": [
    "def one():\n",
    "    x=int(input(\"Input your age: \"))\n",
    "    if x>=17:\n",
    "        print (\"You can vote for the election\")\n",
    "    else :\n",
    "        print (\"You are a minor lmao, no voting!\")"
   ]
  },
  {
   "cell_type": "code",
   "execution_count": 2,
   "metadata": {},
   "outputs": [],
   "source": [
    "def two():\n",
    "    x=int(input(\"Input the number to check: \"))\n",
    "    if x%2==0:\n",
    "        print (\"Even number\")\n",
    "    else:\n",
    "        print (\"Odd number\")"
   ]
  },
  {
   "cell_type": "code",
   "execution_count": 3,
   "metadata": {},
   "outputs": [],
   "source": [
    "def three():\n",
    "    x=int(input(\"Input the number to check: \"))\n",
    "    if x%6==0:\n",
    "        print (x,\"can be devided by 6\")\n",
    "    else:\n",
    "        print (x,\"can NOT be devided by 6\")"
   ]
  },
  {
   "cell_type": "code",
   "execution_count": 4,
   "metadata": {},
   "outputs": [],
   "source": [
    "def four():\n",
    "    angka=int(input(\"Input the number to check: \"))\n",
    "    if angka%2==0:\n",
    "        print (\"Even number\")\n",
    "    else:\n",
    "        print (\"Odd number\")"
   ]
  },
  {
   "cell_type": "code",
   "execution_count": 5,
   "metadata": {},
   "outputs": [],
   "source": [
    "def five():\n",
    "    nilai=int(input(\"Input your score here: \"))\n",
    "    if nilai>=80 and nilai <=100:   \n",
    "        print (\"Your got an A!\")\n",
    "    elif nilai<79 and nilai>=70:\n",
    "        print (\"Your got a B!\")\n",
    "    elif nilai<69 and nilai>=60:\n",
    "        print (\"Your got a C!\")\n",
    "    elif nilai<59 and nilai>=55:\n",
    "        print (\"Your got a D? LMAO TRY HARDER BITCH XD\")\n",
    "    elif nilai<55 and nilai>=0:\n",
    "        print (\"Bro are you for real? your score is lower than Mariana Trench wtf\")\n",
    "    else :\n",
    "        print (\"BRO'S SCORE IS NEGATIVE LMFAO\")"
   ]
  },
  {
   "cell_type": "code",
   "execution_count": 6,
   "metadata": {},
   "outputs": [
    {
     "name": "stdout",
     "output_type": "stream",
     "text": [
      "1. Program to check whether you can vote or not.\n",
      "2. Program to check whether a number is even or odd.\n",
      "3. Program to check whether a number can be devided by 6 ot not\n",
      "4. Is literally the same as program 2\n",
      "5. Program to convert your test score\n",
      "There are only five programs available dumbass!\n",
      "There are only five programs available dumbass!\n",
      "You are a minor lmao, no voting!\n"
     ]
    }
   ],
   "source": [
    "print (\"1. Program to check whether you can vote or not.\")\n",
    "print (\"2. Program to check whether a number is even or odd.\")\n",
    "print (\"3. Program to check whether a number can be devided by 6 ot not\")\n",
    "print (\"4. Is literally the same as program 2\")\n",
    "print (\"5. Program to convert your test score\")\n",
    "i=1\n",
    "while i==1:\n",
    "    choice=int(input(\"Which program would you like to run?\"))\n",
    "    if choice==1:\n",
    "        one()\n",
    "        i=0\n",
    "    elif choice==2:\n",
    "        two()\n",
    "        i=0\n",
    "    elif choice==3:\n",
    "        three()\n",
    "        i=0\n",
    "    elif choice==4:\n",
    "        four()\n",
    "        i=0\n",
    "    elif choice==5:\n",
    "        five()\n",
    "        i=0\n",
    "    else:\n",
    "        print (\"There are only five programs available dumbass!\")\n",
    "\n"
   ]
  }
 ],
 "metadata": {
  "kernelspec": {
   "display_name": "Python 3",
   "language": "python",
   "name": "python3"
  },
  "language_info": {
   "codemirror_mode": {
    "name": "ipython",
    "version": 3
   },
   "file_extension": ".py",
   "mimetype": "text/x-python",
   "name": "python",
   "nbconvert_exporter": "python",
   "pygments_lexer": "ipython3",
   "version": "3.11.2"
  },
  "orig_nbformat": 4
 },
 "nbformat": 4,
 "nbformat_minor": 2
}

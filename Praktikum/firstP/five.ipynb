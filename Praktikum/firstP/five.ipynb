{
 "cells": [
  {
   "cell_type": "code",
   "execution_count": 13,
   "metadata": {},
   "outputs": [],
   "source": [
    "nilai=int(input())"
   ]
  },
  {
   "cell_type": "code",
   "execution_count": 14,
   "metadata": {},
   "outputs": [
    {
     "name": "stdout",
     "output_type": "stream",
     "text": [
      "BRO'S SCORE IS NEGATIVE LMFAO\n"
     ]
    }
   ],
   "source": [
    "if nilai>=80 and nilai <=100:\n",
    "    print (\"Your score is A!\")\n",
    "elif nilai<79 and nilai>=70:\n",
    "    print (\"Your score is B!\")\n",
    "elif nilai<69 and nilai>=60:\n",
    "    print (\"Your score is C!\")\n",
    "elif nilai<59 and nilai>=55:\n",
    "    print (\"Your score is D! LMAO TRY HARDER BITCH XD\")\n",
    "elif nilai<55 and nilai>=0:\n",
    "    print (\"Bro are you for real? your score is lower than Mariana Trench wtf\")\n",
    "else :\n",
    "    print (\"BRO'S SCORE IS NEGATIVE LMFAO\")"
   ]
  }
 ],
 "metadata": {
  "kernelspec": {
   "display_name": "Python 3",
   "language": "python",
   "name": "python3"
  },
  "language_info": {
   "codemirror_mode": {
    "name": "ipython",
    "version": 3
   },
   "file_extension": ".py",
   "mimetype": "text/x-python",
   "name": "python",
   "nbconvert_exporter": "python",
   "pygments_lexer": "ipython3",
   "version": "3.11.2"
  },
  "orig_nbformat": 4
 },
 "nbformat": 4,
 "nbformat_minor": 2
}

{
 "cells": [
  {
   "cell_type": "code",
   "execution_count": 10,
   "metadata": {},
   "outputs": [],
   "source": [
    "def printList():\n",
    "    print (\"\"\"\n",
    "\n",
    "Pop - \"Uptown Funk\" by Mark Ronson ft. Bruno Mars   Rp 1000\n",
    "Hip-hop - \"Jump\" by Kris Kross                      Rp 1000\n",
    "Country - \"Friends in Low Places\" by Garth Brooks   Rp 1000\n",
    "Rock - \"Livin' on a Prayer\" by Bon Jovi             Rp 1000\n",
    "Disco - \"Stayin' Alive\" by Bee Gees                 Rp 1000\n",
    "R&B - \"I Will Always Love You\" by Whitney Houston   Rp 1000\n",
    "Input 0 when you're done!\n",
    "           \"\"\")"
   ]
  },
  {
   "cell_type": "code",
   "execution_count": 11,
   "metadata": {},
   "outputs": [],
   "source": [
    "def checkSongPrice(song):\n",
    "    if (song==1):\n",
    "        return 1000\n",
    "    elif (song==2):\n",
    "        return 1000\n",
    "    elif (song==3):\n",
    "        return 1000\n",
    "    elif (song==4):\n",
    "        return 1000\n",
    "    elif (song==5):\n",
    "        return 1000\n",
    "    elif (song==6):\n",
    "        return 1000\n",
    "    else:\n",
    "        print (\"Invalid input!\")\n",
    "        return 0"
   ]
  },
  {
   "cell_type": "code",
   "execution_count": 12,
   "metadata": {},
   "outputs": [
    {
     "name": "stdout",
     "output_type": "stream",
     "text": [
      "\n",
      "\n",
      "Pop - \"Uptown Funk\" by Mark Ronson ft. Bruno Mars   Rp 1000\n",
      "Hip-hop - \"Jump\" by Kris Kross                      Rp 1000\n",
      "Country - \"Friends in Low Places\" by Garth Brooks   Rp 1000\n",
      "Rock - \"Livin' on a Prayer\" by Bon Jovi             Rp 1000\n",
      "Disco - \"Stayin' Alive\" by Bee Gees                 Rp 1000\n",
      "R&B - \"I Will Always Love You\" by Whitney Houston   Rp 1000\n",
      "Input 0 when you're done!\n",
      "           \n",
      "Current total cost is Rp  1000\n",
      "Total cost : Rp  1000\n",
      "Change : Rp  -999\n",
      "invalid payment amount!\n",
      "Change : Rp  -999\n",
      "invalid payment amount!\n",
      "Thank you for your purchase! enjoy your karaoke experience!\n"
     ]
    }
   ],
   "source": [
    "printList()\n",
    "total=0\n",
    "while (True) :\n",
    "    choice=int(input(\"Please input your choice! :\"))\n",
    "    if (choice==0):\n",
    "        break\n",
    "    else :\n",
    "        price=checkSongPrice(choice)\n",
    "        total=total+price\n",
    "        print(\"Current total cost is Rp \", total)\n",
    "        \n",
    "print(\"Total cost : Rp \",total)\n",
    "while (True) :\n",
    "    payment=int(input(\"Please input the amount of money for payment! :\"))\n",
    "    change=payment-total\n",
    "    print (\"Change : Rp \",change)\n",
    "    if (payment>=total) :\n",
    "        print (\"Thank you for your purchase! enjoy your karaoke experience!\")\n",
    "        break\n",
    "    else :\n",
    "        print (\"invalid payment amount!\")\n",
    "\n",
    "    "
   ]
  }
 ],
 "metadata": {
  "kernelspec": {
   "display_name": "Python 3",
   "language": "python",
   "name": "python3"
  },
  "language_info": {
   "codemirror_mode": {
    "name": "ipython",
    "version": 3
   },
   "file_extension": ".py",
   "mimetype": "text/x-python",
   "name": "python",
   "nbconvert_exporter": "python",
   "pygments_lexer": "ipython3",
   "version": "3.11.3"
  },
  "orig_nbformat": 4
 },
 "nbformat": 4,
 "nbformat_minor": 2
}
